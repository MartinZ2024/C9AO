{
 "cells": [
  {
   "cell_type": "markdown",
   "metadata": {},
   "source": [
    "# Actividad: Resolución de Código y Explicación en Video\n",
    "\n",
    "## Objetivo:\n",
    "Resolver un problema de programación en Python utilizando POO y herencia, y luego realizar un video explicativo de no entre 3 y 5 minutos sobre cómo resolvieron el problema.\n",
    "\n",
    "## Consigna:\n",
    "#### Problema de Programación:\n",
    "\n",
    "## Descripción del Problema:\n",
    "Escribir un programa en Python que administre una lista de tareas. El programa debe permitir al usuario agregar, eliminar y listar tareas. Cada tarea tendrá un nombre, una descripción y una prioridad (alta, media, baja). Además, habrá diferentes tipos de tareas: TareaGeneral y TareaConFecha, cada una con características adicionales.\n",
    "\n",
    "### Requisitos del Código:\n",
    "\n",
    "1. El programa debe permitir agregar una nueva tarea.\n",
    "2. El programa debe permitir eliminar una tarea existente.\n",
    "3. El programa debe permitir listar todas las tareas con sus detalles.\n",
    "4. El programa debe estar diseñado utilizando POO e incluir herencia.\n",
    "\n",
    "## Video Explicativo:\n",
    "\n",
    "Duración: Máximo entre 3 y 5 minutos.\n",
    "\n",
    "## Contenido del Video:\n",
    "\n",
    "1. Introducción:\n",
    "    + Presenta brevemente quién eres.\n",
    "2. Explicación del Código:\n",
    "    + Muestra y explica tu código paso a paso.\n",
    "    + Ejecuta tu código y muestra que funciona correctamente con un ejemplo.\n",
    "3. Conclusión: Resume brevemente lo que has explicado.\n",
    "\n",
    "### Criterios de Evaluación:\n",
    "   +  Exactitud: El código debe resolver correctamente el problema planteado. \n",
    "    \n",
    "   + Claridad del Código: El código debe estar bien estructurado y comentado.\n",
    "\n",
    "### Calidad del Video:\n",
    "   + La explicación debe ser clara y concisa.\n",
    "   + El video debe estar bien organizado y dentro del tiempo límite.\n",
    "\n",
    "### Entrega:\n",
    "   + Compartir el link de GitHub del repositorio de la solución.\n",
    "   + Subir el video .mp4 al drive del alumno y compartir el link junto con la entrega del código.\n",
    "\n",
    "<u><em>Fecha Límite: 19 de junio de 2024 a las 23:59 hs.</em></u>\n",
    "\n",
    "## ¡Espero ver sus creativas soluciones y sus presentaciones claras y concisas! ¡Buena suerte y a programar!\n"
   ]
  },
  {
   "cell_type": "markdown",
   "metadata": {},
   "source": [
    "Programa\n",
    "Escribir un programa en Python que administre una lista de tareas. El programa debe permitir al usuario agregar, eliminar y listar tareas. Cada tarea tendrá un nombre, una descripción y una prioridad (alta, media, baja). Además, habrá diferentes tipos de tareas: TareaGeneral y TareaConFecha, cada una con características adicionales.\n",
    "## Requisitos del Código:\n",
    "\n",
    "1. El programa debe permitir agregar una nueva tarea.\n",
    "2. El programa debe permitir eliminar una tarea existente.\n",
    "3. El programa debe permitir listar todas las tareas con sus detalles.\n",
    "4. El programa debe estar diseñado utilizando POO e incluir herencia."
   ]
  },
  {
   "cell_type": "code",
   "execution_count": 12,
   "metadata": {},
   "outputs": [],
   "source": [
    "class TareaGeneral:\n",
    "    def __init__(self,nombre,descripcion,prioridad):\n",
    "        self.nombre=nombre\n",
    "        self.descripcion=descripcion\n",
    "        self.prioridad=prioridad\n",
    "    def MuInf(self):\n",
    "        print(f\"Nombre tarea: {self.nombre}\\nDescripción: {self.descripcion}\\nPrioridad: {self.prioridad}\")    \n",
    "    "
   ]
  },
  {
   "cell_type": "code",
   "execution_count": 102,
   "metadata": {},
   "outputs": [],
   "source": [
    "class ManTareas():\n",
    "\n",
    "    def __init__(self):\n",
    "        self.ltar=[]\n",
    "\n",
    "    def agrega(self,ntarea):\n",
    "        self.ntarea=ntarea\n",
    "        self.ltar.append(ntarea)\n",
    "        print(f\"Tarea {ntarea} agregada.\")\n",
    "\n",
    "    def quita(self,elem):\n",
    "        self.elem=elem\n",
    "        print(f\"Se puede eliminar desde el elemento: 0 al elemento: {len(self.ltar)-1}\")\n",
    "        self.ltar.pop(elem)\n",
    "        print(f\"Se elimino elemento: {elem}\")  \n",
    "    \n",
    "    def LisTar(self):\n",
    "        print(f\"La lista de tareas es {self.ltar}\")    \n"
   ]
  },
  {
   "cell_type": "code",
   "execution_count": 103,
   "metadata": {},
   "outputs": [
    {
     "name": "stdout",
     "output_type": "stream",
     "text": [
      "Tarea <__main__.TareaGeneral object at 0x000001F98F910F50> agregada.\n",
      "Tarea <__main__.TareaGeneral object at 0x000001F98F9122D0> agregada.\n",
      "La lista de tareas es [<__main__.TareaGeneral object at 0x000001F98F910F50>, <__main__.TareaGeneral object at 0x000001F98F9122D0>]\n",
      "Se puede eliminar desde el elemento: 0 al elemento: 1\n",
      "Se elimino elemento: 1\n",
      "La lista de tareas es [<__main__.TareaGeneral object at 0x000001F98F910F50>]\n"
     ]
    }
   ],
   "source": [
    "\n",
    "listado_de_tareas=ManTareas()\n",
    "\n",
    "\n",
    "tar_gen1=TareaGeneral(\"Llevar auto al taller\",\"Cambiar aceite y filtro\",\"Alto\")\n",
    "tar_gen2=TareaGeneral(\"Ir al medico\",\"Pedir receta\",\"Media\")\n",
    "\n",
    "#Agrega tareas generales\n",
    "listado_de_tareas.agrega(tar_gen1)\n",
    "listado_de_tareas.agrega(tar_gen2)\n",
    "\n",
    "#Lista todas las tareas\n",
    "listado_de_tareas.LisTar()\n",
    "\n",
    "#quita una tarea\n",
    "listado_de_tareas.quita(1)\n",
    "\n",
    "#Lista todas las tareas\n",
    "listado_de_tareas.LisTar()\n"
   ]
  }
 ],
 "metadata": {
  "kernelspec": {
   "display_name": "Python 3",
   "language": "python",
   "name": "python3"
  },
  "language_info": {
   "codemirror_mode": {
    "name": "ipython",
    "version": 3
   },
   "file_extension": ".py",
   "mimetype": "text/x-python",
   "name": "python",
   "nbconvert_exporter": "python",
   "pygments_lexer": "ipython3",
   "version": "3.11.5"
  }
 },
 "nbformat": 4,
 "nbformat_minor": 2
}
